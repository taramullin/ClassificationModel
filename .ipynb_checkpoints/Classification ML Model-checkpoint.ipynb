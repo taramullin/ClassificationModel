{
 "cells": [
  {
   "cell_type": "markdown",
   "metadata": {},
   "source": [
    "# Classification Model Project\n",
    "* Student name: Tara Mullin\n",
    "* Student pace: Part time\n",
    "* Scheduled project review date/time: \n",
    "* Instructor name: Victor Geislinger \n",
    "* Blog post URL: TBD"
   ]
  },
  {
   "cell_type": "markdown",
   "metadata": {},
   "source": [
    "## Project Goal\n",
    "\n",
    "Select a dataset of your choosing and create a classification model. Start by identifying a problem that can be solved with classification, and then identify a dataset.\n",
    "\n",
    "1) Source a dataset\n",
    "\n",
    "2) Preprocess and explore the data\n",
    "\n",
    "3) Build and interpret a classification model that answers your chosen question.\n",
    "\n",
    "OSEMN Method - Obtain, Scrub, Explore, Model, iNterpret"
   ]
  },
  {
   "cell_type": "markdown",
   "metadata": {},
   "source": [
    "## Source & Explore Data (Wednesday 1/15)"
   ]
  },
  {
   "cell_type": "code",
   "execution_count": 11,
   "metadata": {},
   "outputs": [],
   "source": [
    "#minimal cleaning, not the point of this project\n",
    "#get a feel for the data, check out distributions of each feature\n",
    "#(~5 hours)"
   ]
  },
  {
   "cell_type": "markdown",
   "metadata": {},
   "source": [
    "## Feature Engineering (Thursday 1/16)\n",
    "\n",
    "What columns should be included in the model based on EDA?"
   ]
  },
  {
   "cell_type": "code",
   "execution_count": 3,
   "metadata": {},
   "outputs": [],
   "source": [
    "#PCA\n",
    "#shouldn't do much in the way of creating your own features\n",
    "#2-3 hours"
   ]
  },
  {
   "cell_type": "markdown",
   "metadata": {},
   "source": [
    "## Classification Models (Start by Saturday 1/18)"
   ]
  },
  {
   "cell_type": "markdown",
   "metadata": {},
   "source": [
    "### Logistic Regression Model"
   ]
  },
  {
   "cell_type": "markdown",
   "metadata": {},
   "source": [
    "#### Model"
   ]
  },
  {
   "cell_type": "markdown",
   "metadata": {},
   "source": [
    "#### Evaluate\n",
    "\n",
    "Basic evaluation = accuracy, percision, recall, summarize in confusion matrix"
   ]
  },
  {
   "cell_type": "markdown",
   "metadata": {},
   "source": [
    "### Random Forest Model"
   ]
  },
  {
   "cell_type": "code",
   "execution_count": 6,
   "metadata": {},
   "outputs": [],
   "source": [
    "#copy and paste model and evaluate pipline code from log reg and replace type of model"
   ]
  },
  {
   "cell_type": "markdown",
   "metadata": {},
   "source": [
    "### Support Vector Machines or XGBoost Model"
   ]
  },
  {
   "cell_type": "markdown",
   "metadata": {},
   "source": [
    "## Grid Search with Selected Model (Sunday)"
   ]
  },
  {
   "cell_type": "code",
   "execution_count": 12,
   "metadata": {},
   "outputs": [],
   "source": [
    "#pick 1 model you want to explore more and conduct grid sesarch\n",
    "#grid search = hyperparameter tuning\n",
    "#don't overload the grid\n",
    "#relatively broad\n",
    "#max two grid searchs\n",
    "#2 hours"
   ]
  },
  {
   "cell_type": "markdown",
   "metadata": {},
   "source": [
    "## Evaluation - Deeper Dive (Monday)"
   ]
  },
  {
   "cell_type": "code",
   "execution_count": 9,
   "metadata": {},
   "outputs": [],
   "source": [
    "#Monday - Wednesday \n",
    "#4-6 hours\n",
    "#e.g. XGBoost for grid search, print out for each estimator\n",
    "#what nuances, which features important\n",
    "#complexity graph - over or underfitting? (plot complexity vs error)\n",
    "#with XGBoost, each estimator makes the model more complex"
   ]
  },
  {
   "cell_type": "markdown",
   "metadata": {},
   "source": [
    "## Conclusions (& assessment prep Tuesday - Friday)"
   ]
  },
  {
   "cell_type": "markdown",
   "metadata": {},
   "source": [
    "## Future Directions"
   ]
  },
  {
   "cell_type": "code",
   "execution_count": null,
   "metadata": {},
   "outputs": [],
   "source": []
  }
 ],
 "metadata": {
  "kernelspec": {
   "display_name": "learn-env",
   "language": "python",
   "name": "learn-env"
  },
  "language_info": {
   "codemirror_mode": {
    "name": "ipython",
    "version": 3
   },
   "file_extension": ".py",
   "mimetype": "text/x-python",
   "name": "python",
   "nbconvert_exporter": "python",
   "pygments_lexer": "ipython3",
   "version": "3.6.6"
  }
 },
 "nbformat": 4,
 "nbformat_minor": 2
}
